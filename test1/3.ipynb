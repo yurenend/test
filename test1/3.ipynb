{
 "cells": [
  {
   "cell_type": "code",
   "execution_count": 16,
   "metadata": {},
   "outputs": [
    {
     "name": "stdout",
     "output_type": "stream",
     "text": [
      "    def parameters(self, recurse: bool = True) -> Iterator[Parameter]:\n",
      "        r\"\"\"Returns an iterator over module parameters.\n",
      "\n",
      "        This is typically passed to an optimizer.\n",
      "\n",
      "        Args:\n",
      "            recurse (bool): if True, then yields parameters of this module\n",
      "                and all submodules. Otherwise, yields only parameters that\n",
      "                are direct members of this module.\n",
      "\n",
      "        Yields:\n",
      "            Parameter: module parameter\n",
      "\n",
      "        Example::\n",
      "\n",
      "            >>> for param in model.parameters():\n",
      "            >>>     print(type(param), param.size())\n",
      "            <class 'torch.Tensor'> (20L,)\n",
      "            <class 'torch.Tensor'> (20L, 1L, 5L, 5L)\n",
      "\n",
      "        \"\"\"\n",
      "        for name, param in self.named_parameters(recurse=recurse):\n",
      "            yield param\n",
      "\n",
      "0.8828768134117126\n",
      "0.8364863395690918\n"
     ]
    }
   ],
   "source": [
    "import torch\n",
    "import inspect\n",
    "class kk(torch.nn.Module):\n",
    "    def __init__(self,x_size):\n",
    "        super().__init__()\n",
    "        self.linear=torch.nn.Linear(x_size,1)\n",
    "        self.sigmoid=torch.nn.Sigmoid()\n",
    "    \n",
    "    def forward(self,x):\n",
    "        x=self.linear(x)\n",
    "        x=self.sigmoid(x)\n",
    "        return x\n",
    "\n",
    "model=kk(1)\n",
    "\n",
    "x=torch.tensor([[1],[2],[3],[4]],dtype=torch.float32)\n",
    "y=torch.tensor([[0],[0],[1],[1]],dtype=torch.float32)\n",
    "\n",
    "\n",
    "CER=torch.nn.BCELoss()\n",
    "OPT=torch.optim.SGD(model.parameters(),lr=0.1)\n",
    "\n",
    "\n",
    "print(inspect.getsource(model.parameters))\n",
    "for epoch in range(2):\n",
    "    \n",
    "    outputs=model(x)\n",
    "    loss=CER(outputs,y)\n",
    " \n",
    "    OPT.zero_grad()\n",
    "    loss.backward()\n",
    "    \n",
    "    OPT.step()\n",
    "    print(loss.item())"
   ]
  }
 ],
 "metadata": {
  "kernelspec": {
   "display_name": "base",
   "language": "python",
   "name": "python3"
  },
  "language_info": {
   "codemirror_mode": {
    "name": "ipython",
    "version": 3
   },
   "file_extension": ".py",
   "mimetype": "text/x-python",
   "name": "python",
   "nbconvert_exporter": "python",
   "pygments_lexer": "ipython3",
   "version": "3.9.7"
  }
 },
 "nbformat": 4,
 "nbformat_minor": 2
}
