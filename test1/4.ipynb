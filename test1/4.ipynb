{
 "cells": [
  {
   "cell_type": "code",
   "execution_count": 20,
   "metadata": {},
   "outputs": [
    {
     "name": "stdout",
     "output_type": "stream",
     "text": [
      "<class 'builtin_function_or_method'>\n",
      "\n",
      "<class 'NoneType'>\n",
      "<class 'str'>\n",
      "1\n",
      "<class 'type'>\n",
      "<class 'function'>\n",
      "<class '__main__.A'>\n",
      "<class 'method'>\n"
     ]
    }
   ],
   "source": [
    "print(type(print))\n",
    "print(type(print()))\n",
    "print(type('@'))\n",
    "class A:\n",
    "    def __init__(self):\n",
    "        self.k=print(1)\n",
    "    def kk(x):\n",
    "        print(x)\n",
    "        return x+1\n",
    "\n",
    "B=A()\n",
    "print(type(A)) \n",
    "print(type(A.kk)) \n",
    "print(type(B)) \n",
    "print(type(B.kk)) "
   ]
  },
  {
   "cell_type": "code",
   "execution_count": null,
   "metadata": {},
   "outputs": [],
   "source": []
  }
 ],
 "metadata": {
  "kernelspec": {
   "display_name": "base",
   "language": "python",
   "name": "python3"
  },
  "language_info": {
   "codemirror_mode": {
    "name": "ipython",
    "version": 3
   },
   "file_extension": ".py",
   "mimetype": "text/x-python",
   "name": "python",
   "nbconvert_exporter": "python",
   "pygments_lexer": "ipython3",
   "version": "3.9.7"
  }
 },
 "nbformat": 4,
 "nbformat_minor": 2
}
