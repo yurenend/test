{
 "cells": [
  {
   "cell_type": "code",
   "execution_count": 3,
   "metadata": {},
   "outputs": [
    {
     "name": "stdout",
     "output_type": "stream",
     "text": [
      "Epoch [100/1000], Loss: 0.4474\n",
      "Epoch [200/1000], Loss: 0.4316\n",
      "Epoch [300/1000], Loss: 0.4171\n",
      "Epoch [400/1000], Loss: 0.4039\n",
      "Epoch [500/1000], Loss: 0.3917\n",
      "Epoch [600/1000], Loss: 0.3804\n",
      "Epoch [700/1000], Loss: 0.3700\n",
      "Epoch [800/1000], Loss: 0.3604\n",
      "Epoch [900/1000], Loss: 0.3515\n",
      "Epoch [1000/1000], Loss: 0.3432\n",
      "Epoch [1100/1000], Loss: 0.3354\n",
      "Epoch [1200/1000], Loss: 0.3282\n",
      "Epoch [1300/1000], Loss: 0.3214\n",
      "Epoch [1400/1000], Loss: 0.3150\n",
      "Epoch [1500/1000], Loss: 0.3090\n",
      "Epoch [1600/1000], Loss: 0.3034\n",
      "Epoch [1700/1000], Loss: 0.2981\n",
      "Epoch [1800/1000], Loss: 0.2931\n",
      "Epoch [1900/1000], Loss: 0.2883\n",
      "Epoch [2000/1000], Loss: 0.2838\n",
      "Epoch [2100/1000], Loss: 0.2795\n",
      "Epoch [2200/1000], Loss: 0.2754\n",
      "Epoch [2300/1000], Loss: 0.2716\n",
      "Epoch [2400/1000], Loss: 0.2679\n",
      "Epoch [2500/1000], Loss: 0.2644\n",
      "Epoch [2600/1000], Loss: 0.2610\n",
      "Epoch [2700/1000], Loss: 0.2578\n",
      "Epoch [2800/1000], Loss: 0.2547\n",
      "Epoch [2900/1000], Loss: 0.2517\n",
      "Epoch [3000/1000], Loss: 0.2489\n",
      "BinaryClassifier(\n",
      "  (linear): Linear(in_features=1, out_features=1, bias=True)\n",
      "  (sigmoid): Sigmoid()\n",
      ")\n"
     ]
    },
    {
     "data": {
      "text/plain": [
       "'\\nfor name, param in model.named_parameters():\\n    print(name, param.data)\\n'"
      ]
     },
     "execution_count": 3,
     "metadata": {},
     "output_type": "execute_result"
    }
   ],
   "source": [
    "import torch\n",
    "import torch.nn as nn\n",
    "import torch.optim as optim\n",
    "import tensorboard\n",
    "from torchsummary import summary\n",
    "\n",
    "print(12)\n",
    "# 假设你的模型输入是1维的\n",
    "\n",
    "\n",
    "# 定义模型\n",
    "class BinaryClassifier(nn.Module):\n",
    "    def __init__(self, input_size):\n",
    "        super().__init__()\n",
    "        self.linear = nn.Linear(input_size, 1)\n",
    "        self.sigmoid = nn.Sigmoid()\n",
    "\n",
    "    def forward(self, x):\n",
    "        x = self.linear(x)\n",
    "        x = self.sigmoid(x)\n",
    "  \n",
    "        return x\n",
    "\n",
    "# 创建模型实例\n",
    "model = BinaryClassifier(1)\n",
    "\n",
    "# 定义损失函数和优化器\n",
    "criterion = nn.BCELoss()\n",
    "optimizer = optim.SGD(model.parameters(), lr=0.01)\n",
    "\n",
    "# 训练数据\n",
    "x_train = torch.tensor([[8], [9], [6], [7], [6], [9], [3], [1], [3], [18], [19], [16], [17], [16], [19], [13], [11], [10]], dtype=torch.float32)\n",
    "y_train = torch.tensor([[0], [0], [0], [0], [0], [0], [0], [0], [0], [1], [1], [1], [1], [1], [1], [1], [1], [1]], dtype=torch.float32)\n",
    "\n",
    "\n",
    "# 训练模型\n",
    "for epoch in range(3000):\n",
    "    # 前向传播\n",
    "    outputs = model(x_train)\n",
    "    loss = criterion(outputs, y_train)\n",
    "\n",
    "    # 反向传播和优化\n",
    "    optimizer.zero_grad()\n",
    "    loss.backward()\n",
    "    optimizer.step()\n",
    "\n",
    "    if (epoch+1) % 100 == 0:\n",
    "        print ('Epoch [{}/{}], Loss: {:.4f}'.format(epoch+1, 1000, loss.item()))\n",
    "\n",
    "print(model)\n",
    "# 打印模型的所有参数\n",
    "'''\n",
    "for name, param in model.named_parameters():\n",
    "    print(name, param.data)\n",
    "'''\n",
    "#summary(model, input_size=(1,))\n",
    "#可以尝试把模型图像画出来"
   ]
  },
  {
   "cell_type": "code",
   "execution_count": null,
   "metadata": {},
   "outputs": [],
   "source": []
  },
  {
   "cell_type": "markdown",
   "metadata": {},
   "source": [
    "这是啥\n"
   ]
  }
 ],
 "metadata": {
  "kernelspec": {
   "display_name": "base",
   "language": "python",
   "name": "python3"
  },
  "language_info": {
   "codemirror_mode": {
    "name": "ipython",
    "version": 3
   },
   "file_extension": ".py",
   "mimetype": "text/x-python",
   "name": "python",
   "nbconvert_exporter": "python",
   "pygments_lexer": "ipython3",
   "version": "3.9.7"
  }
 },
 "nbformat": 4,
 "nbformat_minor": 2
}
